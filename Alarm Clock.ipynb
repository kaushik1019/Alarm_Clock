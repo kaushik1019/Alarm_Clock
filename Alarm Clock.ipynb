{
 "cells": [
  {
   "cell_type": "markdown",
   "metadata": {},
   "source": [
    "## Implement an alarm\n",
    "Tried implementing an alarm with the following functionalities-\n",
    "    * Use of \"time\" package in python\n",
    "    * Set an Alarm time - by getting an input from a user\n",
    "    * Ring Alarm when current time matches (through Print statements)\n",
    "    * Set and implement snooze"
   ]
  },
  {
   "cell_type": "code",
   "execution_count": null,
   "metadata": {
    "collapsed": true
   },
   "outputs": [],
   "source": [
    "import time as timelib\n",
    "\n",
    "# Getting user's input for alarm\n",
    "while True:\n",
    "    alert_time = input(\"Please enter a time for your alarm in 24H format (HH:MM:SS): \")\n",
    "    alert_time_list = list(map(int, alert_time.split(\":\")))\n",
    "    \n",
    "    # Validating alert time\n",
    "    if(alert_time_list[0] > 23 or alert_time_list[1] > 59 or alert_time_list[2] > 59):\n",
    "        print(\"Dude, Please enter time within realistic bounds !\")\n",
    "    else:\n",
    "        break\n",
    "\n",
    "# Run iterations until alert time is met\n",
    "while True:\n",
    "    # Getting curent time from the system\n",
    "    current_time = timelib.localtime()[3:6]\n",
    "    \n",
    "    # Checking if current time has reached alert time\n",
    "    if((current_time[0] == alert_time_list[0]) and (current_time[1] == alert_time_list[1]) and (current_time[2] == alert_time_list[2])):\n",
    "        print(\"Hey, wake up!\")\n",
    "        timelib.sleep(2)\n",
    "        is_snooze = input(\"Do you want to snooze for thirty seconds? Please enter y/n: \")\n",
    "        if(is_snooze == \"y\"):\n",
    "            if(alert_time_list[2] + 30 > 59):\n",
    "                alert_time_list[1] += 1\n",
    "                alert_time_list[2] -= 30\n",
    "            else:\n",
    "                alert_time_list[2] += 30\n",
    "            continue\n",
    "        else:\n",
    "            print(\"Cool! Have a nice day!\")\n",
    "            break\n",
    "    else:\n",
    "        timelib.sleep(1)\n",
    "        continue\n"
   ]
  },
  {
   "cell_type": "code",
   "execution_count": null,
   "metadata": {
    "collapsed": true
   },
   "outputs": [],
   "source": []
  }
 ],
 "metadata": {
  "kernelspec": {
   "display_name": "Python 3",
   "language": "python",
   "name": "python3"
  },
  "language_info": {
   "codemirror_mode": {
    "name": "ipython",
    "version": 3
   },
   "file_extension": ".py",
   "mimetype": "text/x-python",
   "name": "python",
   "nbconvert_exporter": "python",
   "pygments_lexer": "ipython3",
   "version": "3.6.0"
  }
 },
 "nbformat": 4,
 "nbformat_minor": 2
}
